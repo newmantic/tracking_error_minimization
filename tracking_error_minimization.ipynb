{
  "nbformat": 4,
  "nbformat_minor": 0,
  "metadata": {
    "colab": {
      "provenance": [],
      "authorship_tag": "ABX9TyOQKazsf+GIO77OMAY9jeVj",
      "include_colab_link": true
    },
    "kernelspec": {
      "name": "python3",
      "display_name": "Python 3"
    },
    "language_info": {
      "name": "python"
    }
  },
  "cells": [
    {
      "cell_type": "markdown",
      "metadata": {
        "id": "view-in-github",
        "colab_type": "text"
      },
      "source": [
        "<a href=\"https://colab.research.google.com/github/newmantic/tracking_error_minimization/blob/main/tracking_error_minimization.ipynb\" target=\"_parent\"><img src=\"https://colab.research.google.com/assets/colab-badge.svg\" alt=\"Open In Colab\"/></a>"
      ]
    },
    {
      "cell_type": "code",
      "execution_count": 1,
      "metadata": {
        "colab": {
          "base_uri": "https://localhost:8080/"
        },
        "id": "u_7T4hsdsQfi",
        "outputId": "afaad14f-f5cc-4ca3-9d9a-6a5842132ee2"
      },
      "outputs": [
        {
          "output_type": "stream",
          "name": "stdout",
          "text": [
            "Optimized Portfolio Weights: [0.33333333 0.33333333 0.33333333]\n"
          ]
        }
      ],
      "source": [
        "import numpy as np\n",
        "import pandas as pd\n",
        "from scipy.optimize import minimize\n",
        "\n",
        "# Example bond data (simplified)\n",
        "bonds = pd.DataFrame({\n",
        "    'bond': ['Bond A', 'Bond B', 'Bond C'],\n",
        "    'weight_in_index': [0.4, 0.3, 0.3],  # Weights in the index\n",
        "    'expected_return': [0.05, 0.04, 0.045],  # Expected returns\n",
        "    'duration': [5.0, 4.5, 6.0]  # Durations\n",
        "})\n",
        "\n",
        "# Covariance matrix of bond returns (simplified)\n",
        "cov_matrix = np.array([\n",
        "    [0.0001, 0.00002, 0.00001],\n",
        "    [0.00002, 0.00015, 0.00003],\n",
        "    [0.00001, 0.00003, 0.0002]\n",
        "])\n",
        "\n",
        "def portfolio_return(weights, returns):\n",
        "    \"\"\"Calculate the expected portfolio return.\"\"\"\n",
        "    return np.dot(weights, returns)\n",
        "\n",
        "def portfolio_variance(weights, cov_matrix):\n",
        "    \"\"\"Calculate the portfolio variance (squared tracking error).\"\"\"\n",
        "    return np.dot(weights.T, np.dot(cov_matrix, weights))\n",
        "\n",
        "def tracking_error_minimization(target_weights, cov_matrix):\n",
        "    \"\"\"Minimize tracking error given a target index weight allocation.\"\"\"\n",
        "\n",
        "    # Objective function: Minimize tracking error (portfolio variance)\n",
        "    def objective(weights):\n",
        "        return portfolio_variance(weights - target_weights, cov_matrix)\n",
        "\n",
        "    # Constraints: Sum of weights = 1 (full investment)\n",
        "    constraints = ({'type': 'eq', 'fun': lambda weights: np.sum(weights) - 1})\n",
        "\n",
        "    # Bounds for weights: [0, 1] (no shorting, no leverage)\n",
        "    bounds = [(0, 1) for _ in range(len(target_weights))]\n",
        "\n",
        "    # Initial guess (equal weights)\n",
        "    initial_guess = np.array([1/len(target_weights)] * len(target_weights))\n",
        "\n",
        "    # Optimization\n",
        "    result = minimize(objective, initial_guess, bounds=bounds, constraints=constraints)\n",
        "\n",
        "    return result.x\n",
        "\n",
        "# Target weights from the index\n",
        "target_weights = bonds['weight_in_index'].values\n",
        "\n",
        "# Minimize tracking error\n",
        "optimized_weights = tracking_error_minimization(target_weights, cov_matrix)\n",
        "\n",
        "print(f\"Optimized Portfolio Weights: {optimized_weights}\")"
      ]
    }
  ]
}